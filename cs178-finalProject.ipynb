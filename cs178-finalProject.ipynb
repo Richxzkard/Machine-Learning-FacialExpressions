{
 "cells": [
  {
   "cell_type": "markdown",
   "id": "0cb8a610",
   "metadata": {
    "id": "43b7d466"
   },
   "source": [
    "# CS178 Final Project\n",
    "Group Members: Zheling Zhang, Jun Yan, Zikang Xiong"
   ]
  },
  {
   "cell_type": "markdown",
   "id": "6c5708b4",
   "metadata": {},
   "source": [
    "---\n",
    "## Dataset Introduction\n",
    "\n",
    "The dataset our group has chosen was the emotion detection dataset. This project aims to find and fit the most valid model to predict the correct emotions that matches the images from dataset."
   ]
  },
  {
   "cell_type": "code",
   "execution_count": 5,
   "id": "d0edeef4",
   "metadata": {},
   "outputs": [],
   "source": [
    "import matplotlib.pyplot as plt   \n",
    "%matplotlib inline\n",
    "\n",
    "import cv2\n",
    "from sklearn.model_selection import train_test_split\n",
    "from sklearn.svm import SVC\n",
    "from sklearn.metrics import accuracy_score\n",
    "from skimage import io, color, feature, transform\n",
    "from sklearn import svm, model_selection, metrics\n",
    "\n",
    "\n",
    "\n",
    "# import tensorflow as tf\n",
    "# from tensorflow.keras.preprocessing.image import ImageDataGenerator\n",
    "# from tensorflow.keras.models import Model\n",
    "# from tensorflow.keras.layers import Dense, GlobalAveragePooling2D\n",
    "# from tensorflow.keras.optimizers import Adam\n",
    "import pandas as pd\n",
    "from sklearn.model_selection import train_test_split\n",
    "\n",
    "import numpy as np\n",
    "import requests                                      # reading data\n",
    "from io import StringIO"
   ]
  },
  {
   "cell_type": "markdown",
   "id": "7c380903",
   "metadata": {},
   "source": [
    "---\n",
    "## Load Dataset\n",
    "\n"
   ]
  },
  {
   "cell_type": "markdown",
   "id": "fbadb3f9",
   "metadata": {},
   "source": [
    "---\n",
    "## Explore the Dataset\n",
    "\n"
   ]
  },
  {
   "cell_type": "markdown",
   "id": "062ed408",
   "metadata": {},
   "source": [
    "---\n",
    "## Exploration Technique: Convolutional Neural Network\n",
    "\n"
   ]
  },
  {
   "cell_type": "markdown",
   "id": "8cbcddbc",
   "metadata": {},
   "source": [
    "---\n",
    "## Performance Validation with CNN\n",
    "\n"
   ]
  },
  {
   "cell_type": "markdown",
   "id": "0150a5e1",
   "metadata": {},
   "source": [
    "---\n",
    "## Exploration Technique: Support Vector Machine\n",
    "\n"
   ]
  },
  {
   "cell_type": "code",
   "execution_count": 61,
   "id": "bf46ed7d",
   "metadata": {},
   "outputs": [
    {
     "name": "stdout",
     "output_type": "stream",
     "text": [
      "<class 'pandas.core.frame.DataFrame'>\n",
      "  user.id                            image   emotion\n",
      "0     628  facial-expressions_2868588k.jpg     anger\n",
      "1     628  facial-expressions_2868585k.jpg  surprise\n",
      "2     628  facial-expressions_2868584k.jpg   disgust\n",
      "3     628  facial-expressions_2868582k.jpg      fear\n",
      "4   dwdii           Aaron_Eckhart_0001.jpg   neutral\n"
     ]
    }
   ],
   "source": [
    "# load dataset\n",
    "# data = pd.read_csv('data/500_picts_satz.csv')\n",
    "data = pd.read_csv('data/legend.csv')\n",
    "\n",
    "images = data.iloc[:, 1].tolist()\n",
    "emotions = data.iloc[:,2].tolist()\n",
    "\n",
    "print(type(data))\n",
    "print(data.head(5))\n"
   ]
  },
  {
   "cell_type": "code",
   "execution_count": 67,
   "id": "5328bef1",
   "metadata": {},
   "outputs": [
    {
     "name": "stdout",
     "output_type": "stream",
     "text": [
      "images/facial-expressions_2868588k.jpg\n"
     ]
    },
    {
     "ename": "AttributeError",
     "evalue": "shape",
     "output_type": "error",
     "traceback": [
      "\u001b[0;31m---------------------------------------------------------------------------\u001b[0m",
      "\u001b[0;31mAttributeError\u001b[0m                            Traceback (most recent call last)",
      "\u001b[0;32m/var/folders/rw/j3ncx6g946lgjmr2xtddhjbr0000gn/T/ipykernel_16113/2200696810.py\u001b[0m in \u001b[0;36m<module>\u001b[0;34m\u001b[0m\n\u001b[1;32m     29\u001b[0m \u001b[0;34m\u001b[0m\u001b[0m\n\u001b[1;32m     30\u001b[0m \u001b[0;31m# load dataset\u001b[0m\u001b[0;34m\u001b[0m\u001b[0;34m\u001b[0m\u001b[0m\n\u001b[0;32m---> 31\u001b[0;31m \u001b[0mdata\u001b[0m\u001b[0;34m,\u001b[0m \u001b[0mtarget\u001b[0m \u001b[0;34m=\u001b[0m \u001b[0mload_dataset\u001b[0m\u001b[0;34m(\u001b[0m\u001b[0mimages\u001b[0m\u001b[0;34m,\u001b[0m \u001b[0memotions\u001b[0m\u001b[0;34m)\u001b[0m\u001b[0;34m\u001b[0m\u001b[0;34m\u001b[0m\u001b[0m\n\u001b[0m\u001b[1;32m     32\u001b[0m \u001b[0;34m\u001b[0m\u001b[0m\n\u001b[1;32m     33\u001b[0m \u001b[0;31m# create training set and validation set\u001b[0m\u001b[0;34m\u001b[0m\u001b[0;34m\u001b[0m\u001b[0m\n",
      "\u001b[0;32m/var/folders/rw/j3ncx6g946lgjmr2xtddhjbr0000gn/T/ipykernel_16113/2200696810.py\u001b[0m in \u001b[0;36mload_dataset\u001b[0;34m(image_paths, labels)\u001b[0m\n\u001b[1;32m     13\u001b[0m \u001b[0;34m\u001b[0m\u001b[0m\n\u001b[1;32m     14\u001b[0m         \u001b[0mimg\u001b[0m \u001b[0;34m=\u001b[0m \u001b[0mImage\u001b[0m\u001b[0;34m.\u001b[0m\u001b[0mopen\u001b[0m\u001b[0;34m(\u001b[0m\u001b[0mtemp\u001b[0m\u001b[0;34m)\u001b[0m\u001b[0;34m\u001b[0m\u001b[0;34m\u001b[0m\u001b[0m\n\u001b[0;32m---> 15\u001b[0;31m         \u001b[0;32mif\u001b[0m \u001b[0mlen\u001b[0m\u001b[0;34m(\u001b[0m\u001b[0mimg\u001b[0m\u001b[0;34m.\u001b[0m\u001b[0mshape\u001b[0m\u001b[0;34m)\u001b[0m \u001b[0;34m==\u001b[0m \u001b[0;36m2\u001b[0m \u001b[0;32mor\u001b[0m \u001b[0mimg\u001b[0m\u001b[0;34m.\u001b[0m\u001b[0mshape\u001b[0m\u001b[0;34m[\u001b[0m\u001b[0;36m2\u001b[0m\u001b[0;34m]\u001b[0m \u001b[0;34m==\u001b[0m \u001b[0;36m1\u001b[0m\u001b[0;34m:\u001b[0m\u001b[0;34m\u001b[0m\u001b[0;34m\u001b[0m\u001b[0m\n\u001b[0m\u001b[1;32m     16\u001b[0m             \u001b[0mgray_img\u001b[0m\u001b[0;34m=\u001b[0m\u001b[0mimg\u001b[0m\u001b[0;34m\u001b[0m\u001b[0;34m\u001b[0m\u001b[0m\n\u001b[1;32m     17\u001b[0m         \u001b[0;32melse\u001b[0m\u001b[0;34m:\u001b[0m\u001b[0;34m\u001b[0m\u001b[0;34m\u001b[0m\u001b[0m\n",
      "\u001b[0;32m~/opt/anaconda3/lib/python3.10/site-packages/PIL/Image.py\u001b[0m in \u001b[0;36m__getattr__\u001b[0;34m(self, name)\u001b[0m\n\u001b[1;32m    515\u001b[0m             \u001b[0mdeprecate\u001b[0m\u001b[0;34m(\u001b[0m\u001b[0;34m\"Image categories\"\u001b[0m\u001b[0;34m,\u001b[0m \u001b[0;36m10\u001b[0m\u001b[0;34m,\u001b[0m \u001b[0;34m\"is_animated\"\u001b[0m\u001b[0;34m,\u001b[0m \u001b[0mplural\u001b[0m\u001b[0;34m=\u001b[0m\u001b[0;32mTrue\u001b[0m\u001b[0;34m)\u001b[0m\u001b[0;34m\u001b[0m\u001b[0;34m\u001b[0m\u001b[0m\n\u001b[1;32m    516\u001b[0m             \u001b[0;32mreturn\u001b[0m \u001b[0mself\u001b[0m\u001b[0;34m.\u001b[0m\u001b[0m_category\u001b[0m\u001b[0;34m\u001b[0m\u001b[0;34m\u001b[0m\u001b[0m\n\u001b[0;32m--> 517\u001b[0;31m         \u001b[0;32mraise\u001b[0m \u001b[0mAttributeError\u001b[0m\u001b[0;34m(\u001b[0m\u001b[0mname\u001b[0m\u001b[0;34m)\u001b[0m\u001b[0;34m\u001b[0m\u001b[0;34m\u001b[0m\u001b[0m\n\u001b[0m\u001b[1;32m    518\u001b[0m \u001b[0;34m\u001b[0m\u001b[0m\n\u001b[1;32m    519\u001b[0m     \u001b[0;34m@\u001b[0m\u001b[0mproperty\u001b[0m\u001b[0;34m\u001b[0m\u001b[0;34m\u001b[0m\u001b[0m\n",
      "\u001b[0;31mAttributeError\u001b[0m: shape"
     ]
    }
   ],
   "source": [
    "import imageio\n",
    "from PIL import Image\n",
    "\n",
    "def load_dataset(image_paths, labels):\n",
    "    data = []\n",
    "    target = []\n",
    "\n",
    "    for img_path, label in zip(image_paths, labels):\n",
    "        # load and transfer image\n",
    "        temp = 'images/'\n",
    "        temp+=img_path\n",
    "        print(temp)\n",
    "        \n",
    "        img = Image.open(temp)\n",
    "        if len(img.shape) == 2 or img.shape[2] == 1:\n",
    "            gray_img=img\n",
    "        else:\n",
    "            gray_img = color.rgb2gray(img)\n",
    "        resized_img = gray_img\n",
    "\n",
    "        # get HOG feature\n",
    "        hog_features = feature.hog(resized_img, orientations=9, pixels_per_cell=(8, 8),\n",
    "                            cells_per_block=(2, 2), block_norm='L2-Hys', transform_sqrt=True)\n",
    "\n",
    "        data.append(hog_features)\n",
    "        target.append(label)\n",
    "\n",
    "    return np.array(data), np.array(target)\n",
    "\n",
    "# load dataset\n",
    "data, target = load_dataset(images, emotions)\n",
    "\n",
    "# create training set and validation set\n",
    "X_train, X_test, y_train, y_test = model_selection.train_test_split(data, target, test_size=0.2, random_state=42)\n",
    "\n",
    "# create svm classifier\n",
    "clf = svm.SVC(kernel='linear', C=1, random_state=42)\n",
    "clf.fit(X_train, y_train)\n",
    "y_pred = clf.predict(X_test)\n",
    "\n",
    "accuracy = metrics.accuracy_score(y_test, y_pred)\n",
    "print('Accuracy:', accuracy)"
   ]
  },
  {
   "cell_type": "code",
   "execution_count": null,
   "id": "2112903b",
   "metadata": {},
   "outputs": [],
   "source": []
  },
  {
   "cell_type": "code",
   "execution_count": null,
   "id": "43c7a30e",
   "metadata": {},
   "outputs": [],
   "source": []
  },
  {
   "cell_type": "code",
   "execution_count": null,
   "id": "15128d11",
   "metadata": {},
   "outputs": [],
   "source": []
  },
  {
   "cell_type": "code",
   "execution_count": null,
   "id": "e3c713e0",
   "metadata": {},
   "outputs": [],
   "source": []
  },
  {
   "cell_type": "markdown",
   "id": "f2461fc3",
   "metadata": {},
   "source": [
    "---\n",
    "## Performance Validation with SVM\n",
    "\n"
   ]
  },
  {
   "cell_type": "code",
   "execution_count": null,
   "id": "f24ca983",
   "metadata": {},
   "outputs": [],
   "source": []
  },
  {
   "cell_type": "markdown",
   "id": "9ba13b4c",
   "metadata": {
    "id": "a0921f03"
   },
   "source": [
    "---\n"
   ]
  }
 ],
 "metadata": {
  "colab": {
   "collapsed_sections": [],
   "provenance": []
  },
  "kernelspec": {
   "display_name": "Python 3 (ipykernel)",
   "language": "python",
   "name": "python3"
  },
  "language_info": {
   "codemirror_mode": {
    "name": "ipython",
    "version": 3
   },
   "file_extension": ".py",
   "mimetype": "text/x-python",
   "name": "python",
   "nbconvert_exporter": "python",
   "pygments_lexer": "ipython3",
   "version": "3.10.4"
  }
 },
 "nbformat": 4,
 "nbformat_minor": 5
}
